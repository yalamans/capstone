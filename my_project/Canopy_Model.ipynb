{
 "cells": [
  {
   "cell_type": "markdown",
   "metadata": {},
   "source": [
    "### Sumary final canopy model"
   ]
  },
  {
   "cell_type": "code",
   "execution_count": 1,
   "metadata": {
    "collapsed": true
   },
   "outputs": [],
   "source": [
    "import pandas as pd\n",
    "import numpy as np\n",
    "from sklearn.feature_extraction.text import TfidfVectorizer\n",
    "from sklearn.linear_model import LogisticRegression,LogisticRegressionCV,Lasso\n",
    "from sklearn.cluster import KMeans\n",
    "from sklearn import svm\n",
    "import statsmodels.api as sm\n",
    "from sklearn.cross_validation import train_test_split\n",
    "from sklearn.ensemble import RandomForestClassifier,GradientBoostingClassifier\n",
    "from sklearn.metrics import mean_squared_error\n",
    "import plotly.plotly as py\n",
    "import pandas as pd\n",
    "\n",
    "\n",
    "\n",
    "%matplotlib inline"
   ]
  },
  {
   "cell_type": "code",
   "execution_count": 2,
   "metadata": {
    "collapsed": false
   },
   "outputs": [
    {
     "name": "stderr",
     "output_type": "stream",
     "text": [
      "Skipping line 172: expected 8 fields, saw 9\n",
      "Skipping line 684: expected 8 fields, saw 10\n",
      "\n"
     ]
    }
   ],
   "source": [
    "df_Capital = pd.read_csv('CCapital_data.txt',delimiter=\"\\t\",error_bad_lines=False)\n",
    "df_Counties = pd.read_csv('US_Counties.txt', delimiter=\"\\t\")\n",
    "df_Capital.fillna(value=0, inplace=True)\n",
    "df_Capital.drop(['Unnamed: 7'], axis=1,inplace=True)\n",
    "\n",
    "df_BEA = pd.read_csv('BEA_income.txt', delimiter=\"\\t\")\n",
    "df_Unemp = pd.read_csv('unemployment.txt', delimiter=\"\\t\")\n",
    "df_BEA['fips'] = df_BEA['fips'].astype(int)\n",
    "df_Unemp.drop(df_Unemp[['Code','Code.1','Code.2','Unnamed: 5']],axis=1, inplace=True)\n",
    "\n",
    "\n",
    "df_Counties['Longitude'] = df_Counties['Longitude'].astype(float)\n",
    "df_Counties['Latitude'] = df_Counties['Latitude'].astype(float)\n",
    "df_Counties['Population'] = df_Counties['Population'].astype(float)\n",
    "df_Counties['Land_Miles'] = df_Counties['Land_Miles'].astype(float)\n",
    "df_Counties['Water_miles'] = df_Counties['Water_miles'].astype(float)\n",
    "\n",
    "df_Counties['fips'] = df_Counties['fips'].astype(int)\n",
    "#df_Capital[' County Geo ID'] = df_Capital[' County Geo ID'].astype(int)\n",
    "df_Capital.columns = ['Amount', 'County', 'State', 'Investment Type',\n",
    "       'Organization Type', 'Mission-Related Investment', 'fips']\n",
    "\n",
    "df_feature = pd.merge(df_BEA, df_Unemp[['Rate','fips','Force','Employed','Unemployed']], \\\n",
    "                      how='inner', on=[ 'fips','fips']).copy()\n",
    "df_feature = pd.merge(df_Counties,df_feature,how='inner', on=[ 'fips','fips']).copy()\n",
    "df_feature['ldensity'] =  df_feature['Land_Miles']/df_feature['Population']\n",
    "\n",
    "df_Final = pd.merge(df_Capital, df_feature, how='inner', on=[ 'fips','fips'])\n",
    "\n",
    "df_Model = pd.DataFrame(df_Final[['fips','Population','Land_Miles','Water_miles','Latitude','Longitude','Rate',\\\n",
    "                                  'Employed','Unemployed','2013','D_2014','RR_2014','P_2013','P_2014','R_2014','ldensity']])\n",
    "df_Model['label'] = 1\n",
    "\n",
    "df_Model0  = pd.DataFrame(df_feature[~df_feature['fips'].isin(df_Model['fips']) & ((df_feature['State_x']== 'WA') | \\\n",
    "                (df_feature['State_x']== 'OR') | (df_feature['State_x']== 'AK')|(df_feature['State_x']== 'MT')\\\n",
    "                 | (df_feature['State_x']== 'WY')   |(df_feature['State_x']== 'ID')  )])\n",
    "df_Model0 = pd.DataFrame(df_Model0[['fips','Population','Land_Miles','Water_miles','Latitude','Longitude','Rate',\\\n",
    "                                  'Employed','Unemployed','2013','D_2014','RR_2014','P_2013','P_2014','R_2014','ldensity']])\n",
    "df_Model0['label'] = 0\n",
    "\n",
    "df_Final = pd.DataFrame(df_Model.append(df_Model0).drop_duplicates())\n",
    "df_Final['fips'] = df_Final['fips'].astype(int)\n",
    "\n",
    "if 'fips' != df_Final.index.name:\n",
    "    df_Final.set_index('fips',inplace =True)\n",
    "    \n",
    "if 'label' in df_Final.columns:\n",
    "    df_y = df_Final.pop('label')"
   ]
  },
  {
   "cell_type": "code",
   "execution_count": 10,
   "metadata": {
    "collapsed": false
   },
   "outputs": [
    {
     "data": {
      "text/plain": [
       "LogisticRegression(C=100, class_weight=None, dual=False, fit_intercept=True,\n",
       "          intercept_scaling=1, max_iter=100, multi_class='ovr', n_jobs=1,\n",
       "          penalty='l2', random_state=None, solver='liblinear', tol=0.001,\n",
       "          verbose=0, warm_start=False)"
      ]
     },
     "execution_count": 10,
     "metadata": {},
     "output_type": "execute_result"
    }
   ],
   "source": [
    "X_train, X_test, y_train, y_test = train_test_split(df_Final, df_y,test_size=0.25, random_state=2)\n",
    "rf = RandomForestClassifier()\n",
    "rf.fit(X_train, y_train)\n",
    "#print \"Accuracy on test set:\", rf.score(X_test, y_test)\n",
    "\n",
    "logistic_l2 = LogisticRegression(C=100, penalty='l2', tol=0.001)\n",
    "logistic_l2.fit(X_train, y_train)\n"
   ]
  },
  {
   "cell_type": "code",
   "execution_count": 12,
   "metadata": {
    "collapsed": false
   },
   "outputs": [],
   "source": [
    "#print \"Accuracy on test set:\", logistic_l2.score(X_test, y_test)"
   ]
  },
  {
   "cell_type": "markdown",
   "metadata": {},
   "source": [
    "### Get NW Prababilities"
   ]
  },
  {
   "cell_type": "code",
   "execution_count": 14,
   "metadata": {
    "collapsed": false
   },
   "outputs": [],
   "source": [
    "prob = pd.DataFrame(logistic_l2.predict_proba(df_Final))\n",
    "prob.columns = ['prob0','prob1']\n",
    "\n",
    "prob = prob.round(4)\n",
    "\n",
    "df_map = df_Final.copy()\n",
    "df_map.reset_index(inplace=True)\n",
    "df_map  = pd.concat([df_map,prob],axis=1).copy()\n",
    "df_map = pd.merge(df_feature[['State_y','County','fips']],df_map,on=[ 'fips','fips'])\n",
    "\n",
    "df_map['text'] = df_map['County']+' : '+df_map['State_y']+'<br> Population : ' + \\\n",
    "                df_map['Population'].astype(str)+ '<br> PerCapita Income : ' + df_map['D_2014'].astype(str) +\\\n",
    "                '<br> Unemployment Rate : ' + df_map['Rate'].astype(str)"
   ]
  },
  {
   "cell_type": "markdown",
   "metadata": {},
   "source": [
    "### Get US Probabilities"
   ]
  },
  {
   "cell_type": "code",
   "execution_count": 16,
   "metadata": {
    "collapsed": false
   },
   "outputs": [],
   "source": [
    "df_fforProb = df_feature[['fips','Population','Land_Miles','Water_miles','Latitude','Longitude','Rate',\\\n",
    "                                  'Employed','Unemployed','2013','D_2014','RR_2014','P_2013','P_2014','R_2014','ldensity']].copy()\n",
    "if 'fips' != df_fforProb.index.name:\n",
    "    df_fforProb.set_index('fips',inplace =True)\n",
    "\n",
    "prob_us = pd.DataFrame(logistic_l2.predict_proba(df_fforProb))\n",
    "prob_us.columns = ['prob0','prob1']\n",
    "prob_us = prob_us.round(4)\n",
    "\n",
    "df_map_us = df_fforProb.copy()\n",
    "df_map_us.reset_index(inplace=True)\n",
    "df_map_us  = pd.concat([df_map_us,prob_us],axis=1).copy()\n",
    "df_map_us = pd.merge(df_feature[['State_x','Counties','fips']],df_map_us,on=[ 'fips','fips'])\n",
    "\n",
    "df_map_us['text'] = df_map_us['Counties']+ ' : ' + df_map_us['State_x']+'<br> Population : ' +\\\n",
    "                 df_map_us['Population'].astype(str)+ '<br> Percapita Income : ' + df_map_us['D_2014'].astype(str) + \\\n",
    "                '<br> Unemp Rate : ' + df_map_us['Rate'].astype(str)"
   ]
  },
  {
   "cell_type": "code",
   "execution_count": 22,
   "metadata": {
    "collapsed": false
   },
   "outputs": [],
   "source": [
    "#df_map_us['text'] = df_map_us['text'].map(lambda x: unicode(x, errors='ignore'))\n"
   ]
  },
  {
   "cell_type": "markdown",
   "metadata": {},
   "source": [
    "### Plot US Probabilities"
   ]
  },
  {
   "cell_type": "code",
   "execution_count": 23,
   "metadata": {
    "collapsed": true
   },
   "outputs": [
    {
     "data": {
      "text/html": [
       "<iframe id=\"igraph\" scrolling=\"no\" style=\"border:none;\" seamless=\"seamless\" src=\"https://plot.ly/~yalamans/10.embed\" height=\"525px\" width=\"100%\"></iframe>"
      ],
      "text/plain": [
       "<plotly.tools.PlotlyDisplay object>"
      ]
     },
     "execution_count": 23,
     "metadata": {},
     "output_type": "execute_result"
    }
   ],
   "source": [
    "\n",
    "\n",
    "scl = [ [0,\"rgb(5, 10, 172)\"],[0.35,\"rgb(40, 60, 190)\"],[0.5,\"rgb(70, 100, 245)\"],\\\n",
    "    [0.6,\"rgb(90, 120, 245)\"],[0.7,\"rgb(106, 137, 247)\"],[1,\"rgb(220, 220, 220)\"] ]\n",
    "\n",
    "data = [ dict(\n",
    "        type = 'scattergeo',\n",
    "        locationmode = 'USA-states',\n",
    "        lon = df_map['Longitude'],\n",
    "        lat = df_map['Latitude'],\n",
    "        text = df_map['text'],\n",
    "        mode = 'markers',\n",
    "        marker = dict( \n",
    "            size = 8, \n",
    "            opacity = 0.8,\n",
    "            reversescale = True,\n",
    "            autocolorscale = False,\n",
    "            symbol = 'square',\n",
    "            line = dict(\n",
    "                width=1,\n",
    "                color='rgba(102, 102, 102)'\n",
    "            ),\n",
    "            colorscale = scl,\n",
    "            cmin = 0,\n",
    "            color = df_map_us['prob0'],\n",
    "            cmax = df_map_us['prob0'].max(),\n",
    "            colorbar=dict(\n",
    "                title=\"map showing probability areas\"\n",
    "            )\n",
    "        ))]\n",
    "\n",
    "layout = dict(\n",
    "        title = ' Least amount of contributions ',\n",
    "        colorbar = True,   \n",
    "        geo = dict(\n",
    "            scope='usa',\n",
    "            projection=dict( type='albers usa' ),\n",
    "            showland = True,\n",
    "            landcolor = \"rgb(250, 250, 250)\",\n",
    "            subunitcolor = \"rgb(217, 217, 217)\",\n",
    "            countrycolor = \"rgb(217, 217, 217)\",\n",
    "            countrywidth = 0.5,\n",
    "            subunitwidth = 0.5        \n",
    "        ),\n",
    "    )\n",
    "\n",
    "fig = dict( data=data, layout=layout )\n",
    "py.iplot( fig, validate=False, filename=' Contributions by County' )\n",
    "\n"
   ]
  },
  {
   "cell_type": "markdown",
   "metadata": {},
   "source": [
    "### map all geos"
   ]
  },
  {
   "cell_type": "code",
   "execution_count": 24,
   "metadata": {
    "collapsed": false
   },
   "outputs": [
    {
     "data": {
      "text/html": [
       "<iframe id=\"igraph\" scrolling=\"no\" style=\"border:none;\" seamless=\"seamless\" src=\"https://plot.ly/~yalamans/10.embed\" height=\"525px\" width=\"100%\"></iframe>"
      ],
      "text/plain": [
       "<plotly.tools.PlotlyDisplay object>"
      ]
     },
     "execution_count": 24,
     "metadata": {},
     "output_type": "execute_result"
    }
   ],
   "source": [
    "final_map = pd.merge(df_Capital[['Organization Type','State','Investment Type','Amount','fips']],\\\n",
    "                 df_map_us,how='right',on=[ 'fips','fips']).copy()\n",
    "\n",
    "\n",
    "final_map = pd.merge(df_Capital[['Organization Type','State','Investment Type','Amount','fips']],\\\n",
    "                 df_map,how='right',on=[ 'fips','fips']).copy()\n",
    "final_map.fillna('No Orgs/Investments Present',inplace=True)\n",
    "\n",
    "cases = []\n",
    "#colors = ['rgb(239,243,255)','rgb(189,215,231)','rgb(107,174,214)','rgb(33,113,181)','rgb(239,243,255)']\n",
    "colors = [\"rgb(0,116,217)\",\"lightyellow\",\"rgb(255,65,54)\",\"rgb(225,35,204)\",\"rgb(133,20,75)\",\"rgb(255,133,27)\",\"lightgrey\", \\\n",
    "         'rgb(239,243,255)','rgb(189,215,231)','rgb(107,174,214)','rgb(33,113,181)',\"lightpink\",\"lightgreen\"]\n",
    "\n",
    "scl = [ [0,\"lightyellow\"],[0.35,\"lightgrey\"],[0.5,\"lightpink\"],\\\n",
    "    [0.6,\"lightgreen\"],[0.7,\"lightblue\"],[1,\"rgb(33,113,181)\"] ]\n",
    "\n",
    "scl = [ [0,\"lightyellow\"],[0.35,\"lightgrey\"],[0.5,\"lightpink\"],\\\n",
    "    [0.6,\"lightgreen\"],[0.7,\"lightblue\"],[1,\"rgb(33,113,181)\"] ]\n",
    "\n",
    "limits = final_map['Organization Type'].unique()\n",
    "final_map['text'] =  final_map['County']+ ' : ' + final_map['State_y']+'<br> Population : ' +\\\n",
    "                 final_map['Population'].astype(str)+ '<br> Percapita Income : ' + final_map['D_2014'].astype(str) + \\\n",
    "                '<br> Unemp Rate : ' + final_map['Rate'].astype(str)\n",
    "\n",
    "scale = .05\n",
    "cities = []\n",
    "for j,i in enumerate(limits):\n",
    "    df_sub = final_map[final_map['Organization Type']==i]\n",
    "    #print i, ' : ',df_sub.count()\n",
    "    city = dict(\n",
    "        type = 'scattergeo',\n",
    "        locationmode = 'USA-states',\n",
    "        #locations = df_sub['code'],\n",
    "        \n",
    "        text = df_sub['text'],\n",
    "        lon = df_sub['Longitude'],\n",
    "        lat = df_sub['Latitude'],\n",
    "        #text = final_map['text'],\n",
    "        \n",
    "        marker = dict( \n",
    "            size = 8, \n",
    "            opacity = 0.8,\n",
    "            reversescale = True,\n",
    "            autocolorscale = False,\n",
    "            #color = colors[j],\n",
    "            symbol = 'square',\n",
    "            line = dict(\n",
    "                width=1,\n",
    "                color='rgba(102, 102, 102)'\n",
    "            ),\n",
    "            colorscale = scl,\n",
    "            cmin = 0,\n",
    "            #color = scl[i],\n",
    "            cmax = df_sub['prob0'].max(),\n",
    "            )\n",
    "        \n",
    "        ,name = i)\n",
    "   \n",
    "    cities.append(city)\n",
    "invest_types = []  \n",
    "invst = final_map['Investment Type'].unique()\n",
    "\n",
    "for j,i in enumerate(invst):\n",
    "    df_sub = final_map[final_map['Investment Type']==i]\n",
    "    #print i, ' : ',df_sub.count()\n",
    "    city = dict(\n",
    "        type = 'scattergeo',\n",
    "        locationmode = 'USA-states',\n",
    "        #locations = df_sub['code'],\n",
    "        \n",
    "        text = df_sub['text'],\n",
    "        lon = df_sub['Longitude'],\n",
    "        lat = df_sub['Latitude'],\n",
    "        #text = final_map['text'],\n",
    "        \n",
    "        marker = dict( \n",
    "            size = 8, \n",
    "            opacity = 0.8,\n",
    "            reversescale = True,\n",
    "            autocolorscale = False,\n",
    "            symbol = 'square',\n",
    "            line = dict(\n",
    "                width=1,\n",
    "                color='rgba(102, 102, 102)'\n",
    "            ),\n",
    "            colorscale = scl,\n",
    "            cmin = 0,\n",
    "            cmax = df_sub['prob0'].max(),\n",
    "\n",
    "            )\n",
    "        ,name = i)\n",
    "   \n",
    "    invest_types.append(city)\n",
    "    \n",
    "layout = dict(\n",
    "        title = ' By Organization Type And Investment Type',\n",
    "         showlegend = True,\n",
    "        geo = dict(\n",
    "            scope='usa',\n",
    "            projection=dict( type='albers usa' ),\n",
    "            showland = True,\n",
    "            showlakes = True,\n",
    "            landcolor = 'rgb(217, 217, 217)',\n",
    "            lakecolor = 'rgb(255, 255, 255)',\n",
    "            subunitcolor=\"rgb(255, 255, 255)\",\n",
    "            countrycolor=\"rgb(255, 255, 255)\"\n",
    "        ),\n",
    "    )\n",
    "#fig = dict( data=invest_types, layout=layout )\n",
    "fig = dict( data=cities+invest_types, layout=layout )\n",
    "py.iplot( fig, validate=False, filename=' Contributions by County' )\n",
    "#plot_url = py.plot(fig)"
   ]
  },
  {
   "cell_type": "code",
   "execution_count": null,
   "metadata": {
    "collapsed": true
   },
   "outputs": [],
   "source": []
  }
 ],
 "metadata": {
  "kernelspec": {
   "display_name": "Python 2",
   "language": "python",
   "name": "python2"
  },
  "language_info": {
   "codemirror_mode": {
    "name": "ipython",
    "version": 2
   },
   "file_extension": ".py",
   "mimetype": "text/x-python",
   "name": "python",
   "nbconvert_exporter": "python",
   "pygments_lexer": "ipython2",
   "version": "2.7.11"
  }
 },
 "nbformat": 4,
 "nbformat_minor": 0
}
